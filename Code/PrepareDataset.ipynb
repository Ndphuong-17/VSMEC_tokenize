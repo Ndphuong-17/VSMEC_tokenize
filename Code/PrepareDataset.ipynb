{
 "cells": [
  {
   "cell_type": "code",
   "execution_count": 2,
   "metadata": {},
   "outputs": [
    {
     "name": "stdout",
     "output_type": "stream",
     "text": [
      "D:\\Project\\Toolkit_for_Preprocessing_MXH\\VSMEC_tokenize\n"
     ]
    },
    {
     "name": "stderr",
     "output_type": "stream",
     "text": [
      "c:\\Users\\ndp17\\.pyenv\\pyenv-win\\versions\\3.10.5\\lib\\site-packages\\IPython\\core\\magics\\osm.py:417: UserWarning: This is now an optional IPython functionality, setting dhist requires you to install the `pickleshare` library.\n",
      "  self.shell.db['dhist'] = compress_dhist(dhist)[-100:]\n"
     ]
    }
   ],
   "source": [
    "%cd D:\\Project\\Toolkit_for_Preprocessing_MXH\\VSMEC_tokenize"
   ]
  },
  {
   "cell_type": "code",
   "execution_count": 3,
   "metadata": {},
   "outputs": [],
   "source": [
    "import pandas as pd\n",
    "from IPython.core.interactiveshell import InteractiveShell\n",
    "InteractiveShell.ast_node_interactivity = \"all\"\n",
    "\n",
    "\n",
    "pd.set_option('display.max_rows', None)\n",
    "pd.set_option('display.max_columns', None)\n",
    "pd.set_option('display.width', None)\n",
    "pd.set_option('display.max_colwidth', None)\n",
    "pd.options.display.max_rows"
   ]
  },
  {
   "cell_type": "code",
   "execution_count": 4,
   "metadata": {},
   "outputs": [],
   "source": [
    "path_zip = (\"Data/Raw/UIT-VSMEC.zip\")"
   ]
  },
  {
   "cell_type": "code",
   "execution_count": 5,
   "metadata": {},
   "outputs": [
    {
     "name": "stdout",
     "output_type": "stream",
     "text": [
      "<zipfile.ZipFile [closed]>\n"
     ]
    }
   ],
   "source": [
    "import zipfile\n",
    "with zipfile.ZipFile(path_zip, \"r\") as zf:\n",
    "    zf.extractall('')\n",
    "print(zf)"
   ]
  },
  {
   "cell_type": "code",
   "execution_count": 6,
   "metadata": {},
   "outputs": [
    {
     "data": {
      "text/plain": [
       "'Data/Raw'"
      ]
     },
     "execution_count": 6,
     "metadata": {},
     "output_type": "execute_result"
    }
   ],
   "source": [
    "'/'.join(path_zip.split('/')[:-1])"
   ]
  },
  {
   "cell_type": "code",
   "execution_count": 7,
   "metadata": {},
   "outputs": [],
   "source": [
    "path_train = '/'.join(path_zip.split('/')[:-1]) +'/train_nor_811.csv'\n",
    "path_dev =   '/'.join(path_zip.split('/')[:-1]) +'/valid_nor_811.csv'\n",
    "path_test  = '/'.join(path_zip.split('/')[:-1]) +'/test_nor_811.csv'\n",
    "path_stopword = '/'.join(path_zip.split('/')[:-1]) + '/stopwords.txt'"
   ]
  },
  {
   "cell_type": "code",
   "execution_count": 8,
   "metadata": {},
   "outputs": [],
   "source": [
    "from Code.Preprocessing import unicode, dupplicate_punctuation, deleteIcon, to_category_vector\n",
    "import pandas as pd\n",
    "import numpy as np\n",
    "\n",
    "classes = ['Anger','Disgust','Enjoyment','Fear','Other','Sadness','Surprise']\n",
    "\n",
    "def load_data(path_csv):\n",
    "    data = pd.read_csv(path_csv, encoding = 'utf-8')\n",
    "    # Apply the replacement function to the 'content' column\n",
    "    data['Sentence'] = data['Sentence'].apply(unicode)\n",
    "    data['Sentence'] = data['Sentence'].apply(lambda row: dupplicate_punctuation(row)[0])\n",
    "    data['Sentence'] = data['Sentence'].apply(deleteIcon)\n",
    "    data = data[['Emotion', 'Sentence']]\n",
    "    data['Tag'] = data['Emotion'].apply(lambda x: to_category_vector(x, classes))\n",
    "    data.columns = ['Emotion', 'Text', 'Tag']\n",
    "\n",
    "    return data"
   ]
  },
  {
   "cell_type": "code",
   "execution_count": 9,
   "metadata": {},
   "outputs": [
    {
     "data": {
      "text/html": [
       "<div>\n",
       "<style scoped>\n",
       "    .dataframe tbody tr th:only-of-type {\n",
       "        vertical-align: middle;\n",
       "    }\n",
       "\n",
       "    .dataframe tbody tr th {\n",
       "        vertical-align: top;\n",
       "    }\n",
       "\n",
       "    .dataframe thead th {\n",
       "        text-align: right;\n",
       "    }\n",
       "</style>\n",
       "<table border=\"1\" class=\"dataframe\">\n",
       "  <thead>\n",
       "    <tr style=\"text-align: right;\">\n",
       "      <th></th>\n",
       "      <th>Emotion</th>\n",
       "      <th>Text</th>\n",
       "      <th>Tag</th>\n",
       "    </tr>\n",
       "  </thead>\n",
       "  <tbody>\n",
       "    <tr>\n",
       "      <th>0</th>\n",
       "      <td>Sadness</td>\n",
       "      <td>người ta có bạn bè nhìn vui thật</td>\n",
       "      <td>[0.0, 0.0, 0.0, 0.0, 0.0, 1.0, 0.0]</td>\n",
       "    </tr>\n",
       "    <tr>\n",
       "      <th>1</th>\n",
       "      <td>Surprise</td>\n",
       "      <td>cho nghỉ viêc mói đúng sao goi là kỷ luật</td>\n",
       "      <td>[0.0, 0.0, 0.0, 0.0, 0.0, 0.0, 1.0]</td>\n",
       "    </tr>\n",
       "    <tr>\n",
       "      <th>2</th>\n",
       "      <td>Disgust</td>\n",
       "      <td>kinh vãi</td>\n",
       "      <td>[0.0, 1.0, 0.0, 0.0, 0.0, 0.0, 0.0]</td>\n",
       "    </tr>\n",
       "    <tr>\n",
       "      <th>3</th>\n",
       "      <td>Fear</td>\n",
       "      <td>nhà thì không xa lắm nhưng chưa bao giờ đi vì sợ bị đè bẹp luôn người</td>\n",
       "      <td>[0.0, 0.0, 0.0, 1.0, 0.0, 0.0, 0.0]</td>\n",
       "    </tr>\n",
       "    <tr>\n",
       "      <th>4</th>\n",
       "      <td>Anger</td>\n",
       "      <td>bố không thích nộp đấy mày thích ý kiến không</td>\n",
       "      <td>[1.0, 0.0, 0.0, 0.0, 0.0, 0.0, 0.0]</td>\n",
       "    </tr>\n",
       "  </tbody>\n",
       "</table>\n",
       "</div>"
      ],
      "text/plain": [
       "    Emotion  \\\n",
       "0   Sadness   \n",
       "1  Surprise   \n",
       "2   Disgust   \n",
       "3      Fear   \n",
       "4     Anger   \n",
       "\n",
       "                                                                    Text  \\\n",
       "0                                       người ta có bạn bè nhìn vui thật   \n",
       "1                              cho nghỉ viêc mói đúng sao goi là kỷ luật   \n",
       "2                                                               kinh vãi   \n",
       "3  nhà thì không xa lắm nhưng chưa bao giờ đi vì sợ bị đè bẹp luôn người   \n",
       "4                          bố không thích nộp đấy mày thích ý kiến không   \n",
       "\n",
       "                                   Tag  \n",
       "0  [0.0, 0.0, 0.0, 0.0, 0.0, 1.0, 0.0]  \n",
       "1  [0.0, 0.0, 0.0, 0.0, 0.0, 0.0, 1.0]  \n",
       "2  [0.0, 1.0, 0.0, 0.0, 0.0, 0.0, 0.0]  \n",
       "3  [0.0, 0.0, 0.0, 1.0, 0.0, 0.0, 0.0]  \n",
       "4  [1.0, 0.0, 0.0, 0.0, 0.0, 0.0, 0.0]  "
      ]
     },
     "execution_count": 9,
     "metadata": {},
     "output_type": "execute_result"
    }
   ],
   "source": [
    "test = load_data(path_test)\n",
    "train = load_data(path_train)\n",
    "dev = load_data(path_dev)\n",
    "\n",
    "test.head()"
   ]
  },
  {
   "cell_type": "code",
   "execution_count": 10,
   "metadata": {},
   "outputs": [
    {
     "data": {
      "text/html": [
       "<div>\n",
       "<style scoped>\n",
       "    .dataframe tbody tr th:only-of-type {\n",
       "        vertical-align: middle;\n",
       "    }\n",
       "\n",
       "    .dataframe tbody tr th {\n",
       "        vertical-align: top;\n",
       "    }\n",
       "\n",
       "    .dataframe thead th {\n",
       "        text-align: right;\n",
       "    }\n",
       "</style>\n",
       "<table border=\"1\" class=\"dataframe\">\n",
       "  <thead>\n",
       "    <tr style=\"text-align: right;\">\n",
       "      <th></th>\n",
       "      <th>index</th>\n",
       "      <th>Emotion</th>\n",
       "      <th>Text</th>\n",
       "      <th>Tag</th>\n",
       "    </tr>\n",
       "  </thead>\n",
       "  <tbody>\n",
       "    <tr>\n",
       "      <th>0</th>\n",
       "      <td>0</td>\n",
       "      <td>Sadness</td>\n",
       "      <td>người ta có bạn bè nhìn vui thật</td>\n",
       "      <td>[0.0, 0.0, 0.0, 0.0, 0.0, 1.0, 0.0]</td>\n",
       "    </tr>\n",
       "    <tr>\n",
       "      <th>1</th>\n",
       "      <td>1</td>\n",
       "      <td>Surprise</td>\n",
       "      <td>cho nghỉ viêc mói đúng sao goi là kỷ luật</td>\n",
       "      <td>[0.0, 0.0, 0.0, 0.0, 0.0, 0.0, 1.0]</td>\n",
       "    </tr>\n",
       "    <tr>\n",
       "      <th>2</th>\n",
       "      <td>2</td>\n",
       "      <td>Disgust</td>\n",
       "      <td>kinh vãi</td>\n",
       "      <td>[0.0, 1.0, 0.0, 0.0, 0.0, 0.0, 0.0]</td>\n",
       "    </tr>\n",
       "    <tr>\n",
       "      <th>3</th>\n",
       "      <td>3</td>\n",
       "      <td>Fear</td>\n",
       "      <td>nhà thì không xa lắm nhưng chưa bao giờ đi vì sợ bị đè bẹp luôn người</td>\n",
       "      <td>[0.0, 0.0, 0.0, 1.0, 0.0, 0.0, 0.0]</td>\n",
       "    </tr>\n",
       "    <tr>\n",
       "      <th>4</th>\n",
       "      <td>4</td>\n",
       "      <td>Anger</td>\n",
       "      <td>bố không thích nộp đấy mày thích ý kiến không</td>\n",
       "      <td>[1.0, 0.0, 0.0, 0.0, 0.0, 0.0, 0.0]</td>\n",
       "    </tr>\n",
       "  </tbody>\n",
       "</table>\n",
       "</div>"
      ],
      "text/plain": [
       "   index   Emotion  \\\n",
       "0      0   Sadness   \n",
       "1      1  Surprise   \n",
       "2      2   Disgust   \n",
       "3      3      Fear   \n",
       "4      4     Anger   \n",
       "\n",
       "                                                                    Text  \\\n",
       "0                                       người ta có bạn bè nhìn vui thật   \n",
       "1                              cho nghỉ viêc mói đúng sao goi là kỷ luật   \n",
       "2                                                               kinh vãi   \n",
       "3  nhà thì không xa lắm nhưng chưa bao giờ đi vì sợ bị đè bẹp luôn người   \n",
       "4                          bố không thích nộp đấy mày thích ý kiến không   \n",
       "\n",
       "                                   Tag  \n",
       "0  [0.0, 0.0, 0.0, 0.0, 0.0, 1.0, 0.0]  \n",
       "1  [0.0, 0.0, 0.0, 0.0, 0.0, 0.0, 1.0]  \n",
       "2  [0.0, 1.0, 0.0, 0.0, 0.0, 0.0, 0.0]  \n",
       "3  [0.0, 0.0, 0.0, 1.0, 0.0, 0.0, 0.0]  \n",
       "4  [1.0, 0.0, 0.0, 0.0, 0.0, 0.0, 0.0]  "
      ]
     },
     "execution_count": 10,
     "metadata": {},
     "output_type": "execute_result"
    }
   ],
   "source": [
    "train.reset_index(inplace=True)\n",
    "dev.reset_index(inplace=True)\n",
    "test.reset_index(inplace=True)\n",
    "\n",
    "test.head()"
   ]
  },
  {
   "cell_type": "code",
   "execution_count": 11,
   "metadata": {},
   "outputs": [
    {
     "data": {
      "text/html": [
       "<div>\n",
       "<style scoped>\n",
       "    .dataframe tbody tr th:only-of-type {\n",
       "        vertical-align: middle;\n",
       "    }\n",
       "\n",
       "    .dataframe tbody tr th {\n",
       "        vertical-align: top;\n",
       "    }\n",
       "\n",
       "    .dataframe thead th {\n",
       "        text-align: right;\n",
       "    }\n",
       "</style>\n",
       "<table border=\"1\" class=\"dataframe\">\n",
       "  <thead>\n",
       "    <tr style=\"text-align: right;\">\n",
       "      <th></th>\n",
       "      <th>index</th>\n",
       "      <th>Emotion</th>\n",
       "      <th>Text</th>\n",
       "      <th>Tag</th>\n",
       "      <th>sentence_id</th>\n",
       "    </tr>\n",
       "  </thead>\n",
       "  <tbody>\n",
       "    <tr>\n",
       "      <th>0</th>\n",
       "      <td>0</td>\n",
       "      <td>Sadness</td>\n",
       "      <td>người ta có bạn bè nhìn vui thật</td>\n",
       "      <td>[0.0, 0.0, 0.0, 0.0, 0.0, 1.0, 0.0]</td>\n",
       "      <td>0</td>\n",
       "    </tr>\n",
       "    <tr>\n",
       "      <th>1</th>\n",
       "      <td>1</td>\n",
       "      <td>Surprise</td>\n",
       "      <td>cho nghỉ viêc mói đúng sao goi là kỷ luật</td>\n",
       "      <td>[0.0, 0.0, 0.0, 0.0, 0.0, 0.0, 1.0]</td>\n",
       "      <td>1</td>\n",
       "    </tr>\n",
       "    <tr>\n",
       "      <th>2</th>\n",
       "      <td>2</td>\n",
       "      <td>Disgust</td>\n",
       "      <td>kinh vãi</td>\n",
       "      <td>[0.0, 1.0, 0.0, 0.0, 0.0, 0.0, 0.0]</td>\n",
       "      <td>2</td>\n",
       "    </tr>\n",
       "    <tr>\n",
       "      <th>3</th>\n",
       "      <td>3</td>\n",
       "      <td>Fear</td>\n",
       "      <td>nhà thì không xa lắm nhưng chưa bao giờ đi vì sợ bị đè bẹp luôn người</td>\n",
       "      <td>[0.0, 0.0, 0.0, 1.0, 0.0, 0.0, 0.0]</td>\n",
       "      <td>3</td>\n",
       "    </tr>\n",
       "    <tr>\n",
       "      <th>4</th>\n",
       "      <td>4</td>\n",
       "      <td>Anger</td>\n",
       "      <td>bố không thích nộp đấy mày thích ý kiến không</td>\n",
       "      <td>[1.0, 0.0, 0.0, 0.0, 0.0, 0.0, 0.0]</td>\n",
       "      <td>4</td>\n",
       "    </tr>\n",
       "  </tbody>\n",
       "</table>\n",
       "</div>"
      ],
      "text/plain": [
       "   index   Emotion  \\\n",
       "0      0   Sadness   \n",
       "1      1  Surprise   \n",
       "2      2   Disgust   \n",
       "3      3      Fear   \n",
       "4      4     Anger   \n",
       "\n",
       "                                                                    Text  \\\n",
       "0                                       người ta có bạn bè nhìn vui thật   \n",
       "1                              cho nghỉ viêc mói đúng sao goi là kỷ luật   \n",
       "2                                                               kinh vãi   \n",
       "3  nhà thì không xa lắm nhưng chưa bao giờ đi vì sợ bị đè bẹp luôn người   \n",
       "4                          bố không thích nộp đấy mày thích ý kiến không   \n",
       "\n",
       "                                   Tag  sentence_id  \n",
       "0  [0.0, 0.0, 0.0, 0.0, 0.0, 1.0, 0.0]            0  \n",
       "1  [0.0, 0.0, 0.0, 0.0, 0.0, 0.0, 1.0]            1  \n",
       "2  [0.0, 1.0, 0.0, 0.0, 0.0, 0.0, 0.0]            2  \n",
       "3  [0.0, 0.0, 0.0, 1.0, 0.0, 0.0, 0.0]            3  \n",
       "4  [1.0, 0.0, 0.0, 0.0, 0.0, 0.0, 0.0]            4  "
      ]
     },
     "execution_count": 11,
     "metadata": {},
     "output_type": "execute_result"
    }
   ],
   "source": [
    "train['sentence_id'] = train['index']\n",
    "dev['sentence_id'] = dev['index']\n",
    "test['sentence_id'] = test['index']\n",
    "test.head()"
   ]
  },
  {
   "cell_type": "code",
   "execution_count": 12,
   "metadata": {},
   "outputs": [],
   "source": [
    "import os\n",
    "folder_path = \"Data\"\n",
    "if not os.path.exists(folder_path):\n",
    "    # Create the folder if it doesn't exist\n",
    "    os.makedirs(folder_path)\n",
    "\n",
    "train.to_csv(os.path.join(folder_path, \"train.csv\"), index=False)\n",
    "dev.to_csv(os.path.join(folder_path, \"dev.csv\"), index=False)\n",
    "test.to_csv(os.path.join(folder_path, \"test.csv\"), index=False)"
   ]
  },
  {
   "cell_type": "code",
   "execution_count": null,
   "metadata": {},
   "outputs": [],
   "source": []
  }
 ],
 "metadata": {
  "kernelspec": {
   "display_name": "Python 3",
   "language": "python",
   "name": "python3"
  },
  "language_info": {
   "codemirror_mode": {
    "name": "ipython",
    "version": 3
   },
   "file_extension": ".py",
   "mimetype": "text/x-python",
   "name": "python",
   "nbconvert_exporter": "python",
   "pygments_lexer": "ipython3",
   "version": "3.10.5"
  }
 },
 "nbformat": 4,
 "nbformat_minor": 2
}
